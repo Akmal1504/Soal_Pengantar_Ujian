{
  "nbformat": 4,
  "nbformat_minor": 0,
  "metadata": {
    "colab": {
      "provenance": []
    },
    "kernelspec": {
      "name": "python3",
      "display_name": "Python 3"
    },
    "language_info": {
      "name": "python"
    }
  },
  "cells": [
    {
      "cell_type": "code",
      "execution_count": 4,
      "metadata": {
        "colab": {
          "base_uri": "https://localhost:8080/"
        },
        "id": "fz_k3tmjR2Uy",
        "outputId": "6f5abc7e-5375-4f7b-c65e-bde54a8781be"
      },
      "outputs": [
        {
          "output_type": "stream",
          "name": "stdout",
          "text": [
            "a. 15 mod 5 = 0\n"
          ]
        }
      ],
      "source": [
        "#Tuliskan Hasil Dari Ekspresi berikut:\n",
        "#a\n",
        "a = 15 % 5\n",
        "print(\"a. 15 mod 5 =\", a)"
      ]
    },
    {
      "cell_type": "code",
      "source": [
        "#b\n",
        "b = 12 + 3 * 5 == 75\n",
        "print(\"b. 12 + 3*5 == 75 =\", b)"
      ],
      "metadata": {
        "colab": {
          "base_uri": "https://localhost:8080/"
        },
        "id": "fvfnRtXQSuMy",
        "outputId": "d0be4a5e-f430-48c0-f57f-09cf20a24607"
      },
      "execution_count": 2,
      "outputs": [
        {
          "output_type": "stream",
          "name": "stdout",
          "text": [
            "b. 12 + 3*5 == 75 = False\n"
          ]
        }
      ]
    },
    {
      "cell_type": "code",
      "source": [
        "#c\n",
        "c = \"PML\" + \"15523\"\n",
        "print('c. \"PML\" + \"15523\" =', c)"
      ],
      "metadata": {
        "colab": {
          "base_uri": "https://localhost:8080/"
        },
        "id": "mL8QfSZFS-6Q",
        "outputId": "48e9ab21-f478-41e1-bf6f-c9dda9d152cb"
      },
      "execution_count": 5,
      "outputs": [
        {
          "output_type": "stream",
          "name": "stdout",
          "text": [
            "c. \"PML\" + \"15523\" = PML15523\n"
          ]
        }
      ]
    },
    {
      "cell_type": "code",
      "source": [
        "#d\n",
        "try:\n",
        "    d = \"100\" + 234\n",
        "except TypeError as e:\n",
        "    d = str(e)\n",
        "print('d. \"100\" + 234 =', d)"
      ],
      "metadata": {
        "colab": {
          "base_uri": "https://localhost:8080/"
        },
        "id": "OAScSheGTBDf",
        "outputId": "266741a7-28f6-4460-d754-53bbb4a1f395"
      },
      "execution_count": 10,
      "outputs": [
        {
          "output_type": "stream",
          "name": "stdout",
          "text": [
            "d. \"100\" + 234 = can only concatenate str (not \"int\") to str\n"
          ]
        }
      ]
    },
    {
      "cell_type": "code",
      "source": [
        "#e\n",
        "e = ((11 % 3) + 2) != 8 / 2\n",
        "print(\"e. ((11%3) + 2) != 8/2 =\", e)"
      ],
      "metadata": {
        "colab": {
          "base_uri": "https://localhost:8080/"
        },
        "id": "wW54P3G6TN7A",
        "outputId": "d63acf9a-ba12-481d-be7c-9d600da6a26a"
      },
      "execution_count": 7,
      "outputs": [
        {
          "output_type": "stream",
          "name": "stdout",
          "text": [
            "e. ((11%3) + 2) != 8/2 = False\n"
          ]
        }
      ]
    },
    {
      "cell_type": "code",
      "source": [
        "# Ekspresi Boolean dengan Variabel\n",
        "p = 11\n",
        "q = 5\n",
        "r = 4\n",
        "#Diberikan 3 buah variabel p = 11, q = 5, dan r = 4 tentukanlah ekspresi Boolean berikut:\n",
        "#a\n",
        "expr_a = (p - r) == (r + q)\n",
        "print(\"a. ((p - r) == (r + q)) =\", expr_a)"
      ],
      "metadata": {
        "colab": {
          "base_uri": "https://localhost:8080/"
        },
        "id": "9xMl1bvzTmno",
        "outputId": "ee00db97-031a-4738-c012-11ae9d130ea3"
      },
      "execution_count": 16,
      "outputs": [
        {
          "output_type": "stream",
          "name": "stdout",
          "text": [
            "a. ((p - r) == (r + q)) = False\n"
          ]
        }
      ]
    },
    {
      "cell_type": "code",
      "source": [
        "#b\n",
        "expr_b = ((p % 3) + q) != (r % 2)\n",
        "print(\"b. (((p % 3) + q) != (r % 2)) =\", expr_b)"
      ],
      "metadata": {
        "colab": {
          "base_uri": "https://localhost:8080/"
        },
        "id": "tcSXSHeeUQcP",
        "outputId": "8f310427-7a2b-473a-df51-665b743c3eae"
      },
      "execution_count": 17,
      "outputs": [
        {
          "output_type": "stream",
          "name": "stdout",
          "text": [
            "b. (((p % 3) + q) != (r % 2)) = True\n"
          ]
        }
      ]
    },
    {
      "cell_type": "code",
      "source": [
        "#c\n",
        "expr_c = (q - 3) == (p % 2 + q)\n",
        "print(\"c. ((q - 3) == (p % 2 + q)) =\", expr_c)"
      ],
      "metadata": {
        "colab": {
          "base_uri": "https://localhost:8080/"
        },
        "id": "kOljPxwZUVW3",
        "outputId": "590191b0-aba6-44e3-e8b5-8fbacc74f4ee"
      },
      "execution_count": 18,
      "outputs": [
        {
          "output_type": "stream",
          "name": "stdout",
          "text": [
            "c. ((q - 3) == (p % 2 + q)) = False\n"
          ]
        }
      ]
    },
    {
      "cell_type": "code",
      "source": [
        "#d\n",
        "expr_d = (r + q) != ((p * 2) % 2)\n",
        "print(\"d. ((r + q) != ((p * 2) % 2)) =\", expr_d)"
      ],
      "metadata": {
        "colab": {
          "base_uri": "https://localhost:8080/"
        },
        "id": "XBG4iUSKUZfr",
        "outputId": "c40dd909-75aa-46ff-8cb4-3d950fc1dca8"
      },
      "execution_count": 19,
      "outputs": [
        {
          "output_type": "stream",
          "name": "stdout",
          "text": [
            "d. ((r + q) != ((p * 2) % 2)) = True\n"
          ]
        }
      ]
    },
    {
      "cell_type": "code",
      "source": [
        "#e\n",
        "expr_e = ((q % 3) + p) > (r % 2)\n",
        "print(\"e. ((((q % 3) + p) > (r % 2))) =\", expr_e)"
      ],
      "metadata": {
        "colab": {
          "base_uri": "https://localhost:8080/"
        },
        "id": "7PQ-kZz8UdAJ",
        "outputId": "8a892050-3c4b-429e-8884-94f52e66bd36"
      },
      "execution_count": 20,
      "outputs": [
        {
          "output_type": "stream",
          "name": "stdout",
          "text": [
            "e. ((((q % 3) + p) > (r % 2))) = True\n"
          ]
        }
      ]
    },
    {
      "cell_type": "code",
      "source": [
        "#f\n",
        "expr_f = (r + p) <= (q * 5)\n",
        "print(\"f. (((r + p)) <= (q * 5)) =\", expr_f)"
      ],
      "metadata": {
        "colab": {
          "base_uri": "https://localhost:8080/"
        },
        "id": "8tNbOBPhUgx-",
        "outputId": "fd7b6188-e329-4ce5-93ad-77d12740ca2d"
      },
      "execution_count": 21,
      "outputs": [
        {
          "output_type": "stream",
          "name": "stdout",
          "text": [
            "f. (((r + p)) <= (q * 5)) = True\n"
          ]
        }
      ]
    },
    {
      "cell_type": "code",
      "source": [
        "#Isian Singkat\n",
        "#1\n",
        "print(\"1. Honey\" + \"Boo\" * 3)"
      ],
      "metadata": {
        "colab": {
          "base_uri": "https://localhost:8080/"
        },
        "id": "Ejp9OCgHVB5T",
        "outputId": "19737d3c-454a-4d1a-e67b-04aa78ed77f1"
      },
      "execution_count": 1,
      "outputs": [
        {
          "output_type": "stream",
          "name": "stdout",
          "text": [
            "1. HoneyBooBooBoo\n"
          ]
        }
      ]
    },
    {
      "cell_type": "code",
      "source": [
        "#2\n",
        "capitals = {}\n",
        "capitals['Murica'] = 'Warshington'\n",
        "capitals['Germany'] = 'Bonn'\n",
        "capitals['France'] = 'Paris'\n",
        "capitals['Engalnd'] = 'London'\n",
        "capitals['Germany'] = 'Berlin'\n",
        "\n",
        "print(\"2. capitals['Germany'] =\", capitals['Germany'])"
      ],
      "metadata": {
        "colab": {
          "base_uri": "https://localhost:8080/"
        },
        "id": "xW1zFYkATpuX",
        "outputId": "8dc4346f-09e5-48a1-80ec-a3630c74f446"
      },
      "execution_count": 2,
      "outputs": [
        {
          "output_type": "stream",
          "name": "stdout",
          "text": [
            "2. capitals['Germany'] = Berlin\n"
          ]
        }
      ]
    },
    {
      "cell_type": "code",
      "source": [
        "#3\n",
        "a = \"23\"\n",
        "b = 9\n",
        "try:\n",
        "    print(\"3.\", a + b)\n",
        "except TypeError as e:\n",
        "    print(\"3. Error:\", e)"
      ],
      "metadata": {
        "colab": {
          "base_uri": "https://localhost:8080/"
        },
        "id": "PWBnrpmud8Oy",
        "outputId": "ddc7d8cb-1e02-4875-b160-8e0d51f55c10"
      },
      "execution_count": 3,
      "outputs": [
        {
          "output_type": "stream",
          "name": "stdout",
          "text": [
            "3. Error: can only concatenate str (not \"int\") to str\n"
          ]
        }
      ]
    },
    {
      "cell_type": "code",
      "source": [
        "#4\n",
        "letters = [\"a\", \"b\", \"o\", \"c\", \"p\"]\n",
        "print(\"4a. letters[1] =\", letters[1])\n",
        "print(\"4b. letters[len(letters)-2] =\", letters[len(letters)-2])\n",
        "print(\"4c. letters + ['x'] =\", letters + [\"x\"])\n",
        "print(\"4d. letters =\", letters)"
      ],
      "metadata": {
        "colab": {
          "base_uri": "https://localhost:8080/"
        },
        "id": "4QRrZ1B_eAlr",
        "outputId": "e5a85484-f93b-4712-bed5-2c7556d024ce"
      },
      "execution_count": 4,
      "outputs": [
        {
          "output_type": "stream",
          "name": "stdout",
          "text": [
            "4a. letters[1] = b\n",
            "4b. letters[len(letters)-2] = c\n",
            "4c. letters + ['x'] = ['a', 'b', 'o', 'c', 'p', 'x']\n",
            "4d. letters = ['a', 'b', 'o', 'c', 'p']\n"
          ]
        }
      ]
    },
    {
      "cell_type": "code",
      "source": [
        "#5\n",
        "print(\"5. ' '.join('h a n d s'.split()) =\", ' '.join('h a n d s'.split()))"
      ],
      "metadata": {
        "colab": {
          "base_uri": "https://localhost:8080/"
        },
        "id": "MSpzNV2IeO0R",
        "outputId": "2907731a-48e3-4007-fdf5-2ae05bb382fd"
      },
      "execution_count": 5,
      "outputs": [
        {
          "output_type": "stream",
          "name": "stdout",
          "text": [
            "5. ' '.join('h a n d s'.split()) = h a n d s\n"
          ]
        }
      ]
    },
    {
      "cell_type": "code",
      "source": [
        "#6\n",
        "import json\n",
        "json_string = '[[\"a\",\"b\",\"c\"],[\"d\",\"e\",\"f\"],[\"g\",\"h\",\"i\"]]'\n",
        "print(\"6. json.loads(json_string)[1][2] =\", json.loads(json_string)[1][2])"
      ],
      "metadata": {
        "colab": {
          "base_uri": "https://localhost:8080/"
        },
        "id": "iO2VWb3QeUmS",
        "outputId": "60416598-f7d2-45d2-e6a9-9948a606f968"
      },
      "execution_count": 6,
      "outputs": [
        {
          "output_type": "stream",
          "name": "stdout",
          "text": [
            "6. json.loads(json_string)[1][2] = f\n"
          ]
        }
      ]
    },
    {
      "cell_type": "code",
      "source": [
        "#7\n",
        "def pembagi_indeks1(nums, divisor):\n",
        "    for i in range(len(nums)):\n",
        "        if nums[i] % divisor == 0:\n",
        "            return i\n",
        "    return -1\n",
        "\n",
        "vals = [101, 4, 12, 24]\n",
        "print(\"7. pembagi_indeks1(vals, 2) =\", pembagi_indeks1(vals, 2))\n",
        "vals_new = [100, 66, 55, 64, 41, 35, 18, 64]\n",
        "print(\"7. pembagi_indeks1(vals_new, 5) =\", pembagi_indeks1(vals_new, 5))"
      ],
      "metadata": {
        "colab": {
          "base_uri": "https://localhost:8080/"
        },
        "id": "2jkfzR9weZrc",
        "outputId": "1ac02390-0ac0-451f-d690-4fecfb2267f6"
      },
      "execution_count": 7,
      "outputs": [
        {
          "output_type": "stream",
          "name": "stdout",
          "text": [
            "7. pembagi_indeks1(vals, 2) = 1\n",
            "7. pembagi_indeks1(vals_new, 5) = 0\n"
          ]
        }
      ]
    },
    {
      "cell_type": "code",
      "source": [
        "#8\n",
        "def mystery(n, m):\n",
        "    p = 0\n",
        "    e = 0\n",
        "    while p < n:\n",
        "        p += 1\n",
        "        e += m\n",
        "    return p\n",
        "\n",
        "print(\"8. mystery(4, 3) =\", mystery(4, 3))\n",
        "n = 4\n",
        "m = 3\n",
        "p = 0\n",
        "e = 0\n",
        "print(\"Pelacakan nilai p dan e:\")\n",
        "print(\"p\\te\")\n",
        "print(\"=====================\")\n",
        "while p < n:\n",
        "    p += 1\n",
        "    e += m\n",
        "    print(p, \"\\t\", e)"
      ],
      "metadata": {
        "colab": {
          "base_uri": "https://localhost:8080/"
        },
        "id": "pOibu-MFejY4",
        "outputId": "557ad61d-80c8-40a6-e5f8-6604cdba5c67"
      },
      "execution_count": 8,
      "outputs": [
        {
          "output_type": "stream",
          "name": "stdout",
          "text": [
            "8. mystery(4, 3) = 4\n",
            "Pelacakan nilai p dan e:\n",
            "p\te\n",
            "=====================\n",
            "1 \t 3\n",
            "2 \t 6\n",
            "3 \t 9\n",
            "4 \t 12\n"
          ]
        }
      ]
    }
  ]
}